{
 "cells": [
  {
   "cell_type": "code",
   "execution_count": 3,
   "metadata": {},
   "outputs": [],
   "source": [
    "import geopandas as gp\n",
    "import pandas as pd"
   ]
  },
  {
   "cell_type": "code",
   "execution_count": 5,
   "metadata": {},
   "outputs": [],
   "source": [
    "df = pd.read_csv('../data/ons_postcode_data/Data/ONSPD_FEB_2023_UK.csv', low_memory=False)"
   ]
  },
  {
   "cell_type": "code",
   "execution_count": 6,
   "metadata": {},
   "outputs": [],
   "source": [
    "df = df[['pcd', 'pcd2', 'pcds', 'lat', 'long']]"
   ]
  },
  {
   "cell_type": "code",
   "execution_count": 7,
   "metadata": {},
   "outputs": [
    {
     "data": {
      "text/html": [
       "<div>\n",
       "<style scoped>\n",
       "    .dataframe tbody tr th:only-of-type {\n",
       "        vertical-align: middle;\n",
       "    }\n",
       "\n",
       "    .dataframe tbody tr th {\n",
       "        vertical-align: top;\n",
       "    }\n",
       "\n",
       "    .dataframe thead th {\n",
       "        text-align: right;\n",
       "    }\n",
       "</style>\n",
       "<table border=\"1\" class=\"dataframe\">\n",
       "  <thead>\n",
       "    <tr style=\"text-align: right;\">\n",
       "      <th></th>\n",
       "      <th>pcd</th>\n",
       "      <th>pcd2</th>\n",
       "      <th>pcds</th>\n",
       "      <th>lat</th>\n",
       "      <th>long</th>\n",
       "    </tr>\n",
       "  </thead>\n",
       "  <tbody>\n",
       "    <tr>\n",
       "      <th>0</th>\n",
       "      <td>AB1 0AA</td>\n",
       "      <td>AB1  0AA</td>\n",
       "      <td>AB1 0AA</td>\n",
       "      <td>57.101474</td>\n",
       "      <td>-2.242851</td>\n",
       "    </tr>\n",
       "    <tr>\n",
       "      <th>1</th>\n",
       "      <td>AB1 0AB</td>\n",
       "      <td>AB1  0AB</td>\n",
       "      <td>AB1 0AB</td>\n",
       "      <td>57.102554</td>\n",
       "      <td>-2.246308</td>\n",
       "    </tr>\n",
       "    <tr>\n",
       "      <th>2</th>\n",
       "      <td>AB1 0AD</td>\n",
       "      <td>AB1  0AD</td>\n",
       "      <td>AB1 0AD</td>\n",
       "      <td>57.100556</td>\n",
       "      <td>-2.248342</td>\n",
       "    </tr>\n",
       "    <tr>\n",
       "      <th>3</th>\n",
       "      <td>AB1 0AE</td>\n",
       "      <td>AB1  0AE</td>\n",
       "      <td>AB1 0AE</td>\n",
       "      <td>57.084444</td>\n",
       "      <td>-2.255708</td>\n",
       "    </tr>\n",
       "    <tr>\n",
       "      <th>4</th>\n",
       "      <td>AB1 0AF</td>\n",
       "      <td>AB1  0AF</td>\n",
       "      <td>AB1 0AF</td>\n",
       "      <td>57.096656</td>\n",
       "      <td>-2.258102</td>\n",
       "    </tr>\n",
       "  </tbody>\n",
       "</table>\n",
       "</div>"
      ],
      "text/plain": [
       "       pcd      pcd2     pcds        lat      long\n",
       "0  AB1 0AA  AB1  0AA  AB1 0AA  57.101474 -2.242851\n",
       "1  AB1 0AB  AB1  0AB  AB1 0AB  57.102554 -2.246308\n",
       "2  AB1 0AD  AB1  0AD  AB1 0AD  57.100556 -2.248342\n",
       "3  AB1 0AE  AB1  0AE  AB1 0AE  57.084444 -2.255708\n",
       "4  AB1 0AF  AB1  0AF  AB1 0AF  57.096656 -2.258102"
      ]
     },
     "execution_count": 7,
     "metadata": {},
     "output_type": "execute_result"
    }
   ],
   "source": [
    "df.head()"
   ]
  },
  {
   "cell_type": "code",
   "execution_count": 8,
   "metadata": {},
   "outputs": [],
   "source": [
    "gdf = gp.GeoDataFrame(df, geometry=gp.points_from_xy(df.long, df.lat), crs='EPSG:4326')"
   ]
  },
  {
   "cell_type": "code",
   "execution_count": 9,
   "metadata": {},
   "outputs": [
    {
     "data": {
      "text/html": [
       "<div>\n",
       "<style scoped>\n",
       "    .dataframe tbody tr th:only-of-type {\n",
       "        vertical-align: middle;\n",
       "    }\n",
       "\n",
       "    .dataframe tbody tr th {\n",
       "        vertical-align: top;\n",
       "    }\n",
       "\n",
       "    .dataframe thead th {\n",
       "        text-align: right;\n",
       "    }\n",
       "</style>\n",
       "<table border=\"1\" class=\"dataframe\">\n",
       "  <thead>\n",
       "    <tr style=\"text-align: right;\">\n",
       "      <th></th>\n",
       "      <th>pcd</th>\n",
       "      <th>pcd2</th>\n",
       "      <th>pcds</th>\n",
       "      <th>lat</th>\n",
       "      <th>long</th>\n",
       "      <th>geometry</th>\n",
       "    </tr>\n",
       "  </thead>\n",
       "  <tbody>\n",
       "    <tr>\n",
       "      <th>0</th>\n",
       "      <td>AB1 0AA</td>\n",
       "      <td>AB1  0AA</td>\n",
       "      <td>AB1 0AA</td>\n",
       "      <td>57.101474</td>\n",
       "      <td>-2.242851</td>\n",
       "      <td>POINT (-2.24285 57.10147)</td>\n",
       "    </tr>\n",
       "    <tr>\n",
       "      <th>1</th>\n",
       "      <td>AB1 0AB</td>\n",
       "      <td>AB1  0AB</td>\n",
       "      <td>AB1 0AB</td>\n",
       "      <td>57.102554</td>\n",
       "      <td>-2.246308</td>\n",
       "      <td>POINT (-2.24631 57.10255)</td>\n",
       "    </tr>\n",
       "    <tr>\n",
       "      <th>2</th>\n",
       "      <td>AB1 0AD</td>\n",
       "      <td>AB1  0AD</td>\n",
       "      <td>AB1 0AD</td>\n",
       "      <td>57.100556</td>\n",
       "      <td>-2.248342</td>\n",
       "      <td>POINT (-2.24834 57.10056)</td>\n",
       "    </tr>\n",
       "    <tr>\n",
       "      <th>3</th>\n",
       "      <td>AB1 0AE</td>\n",
       "      <td>AB1  0AE</td>\n",
       "      <td>AB1 0AE</td>\n",
       "      <td>57.084444</td>\n",
       "      <td>-2.255708</td>\n",
       "      <td>POINT (-2.25571 57.08444)</td>\n",
       "    </tr>\n",
       "    <tr>\n",
       "      <th>4</th>\n",
       "      <td>AB1 0AF</td>\n",
       "      <td>AB1  0AF</td>\n",
       "      <td>AB1 0AF</td>\n",
       "      <td>57.096656</td>\n",
       "      <td>-2.258102</td>\n",
       "      <td>POINT (-2.25810 57.09666)</td>\n",
       "    </tr>\n",
       "  </tbody>\n",
       "</table>\n",
       "</div>"
      ],
      "text/plain": [
       "       pcd      pcd2     pcds        lat      long                   geometry\n",
       "0  AB1 0AA  AB1  0AA  AB1 0AA  57.101474 -2.242851  POINT (-2.24285 57.10147)\n",
       "1  AB1 0AB  AB1  0AB  AB1 0AB  57.102554 -2.246308  POINT (-2.24631 57.10255)\n",
       "2  AB1 0AD  AB1  0AD  AB1 0AD  57.100556 -2.248342  POINT (-2.24834 57.10056)\n",
       "3  AB1 0AE  AB1  0AE  AB1 0AE  57.084444 -2.255708  POINT (-2.25571 57.08444)\n",
       "4  AB1 0AF  AB1  0AF  AB1 0AF  57.096656 -2.258102  POINT (-2.25810 57.09666)"
      ]
     },
     "execution_count": 9,
     "metadata": {},
     "output_type": "execute_result"
    }
   ],
   "source": [
    "gdf.head()"
   ]
  },
  {
   "cell_type": "code",
   "execution_count": null,
   "metadata": {},
   "outputs": [],
   "source": [
    "gdf.plot()"
   ]
  }
 ],
 "metadata": {
  "kernelspec": {
   "display_name": "oa_maps",
   "language": "python",
   "name": "python3"
  },
  "language_info": {
   "codemirror_mode": {
    "name": "ipython",
    "version": 3
   },
   "file_extension": ".py",
   "mimetype": "text/x-python",
   "name": "python",
   "nbconvert_exporter": "python",
   "pygments_lexer": "ipython3",
   "version": "3.12.7"
  }
 },
 "nbformat": 4,
 "nbformat_minor": 2
}
