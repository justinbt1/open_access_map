{
 "cells": [
  {
   "cell_type": "code",
   "execution_count": 1,
   "metadata": {},
   "outputs": [],
   "source": [
    "import geopandas as gp\n",
    "import pandas as pd"
   ]
  },
  {
   "cell_type": "code",
   "execution_count": 2,
   "metadata": {},
   "outputs": [],
   "source": [
    "df = pd.read_csv('../data/ons_postcode_data/Data/ONSPD_FEB_2023_UK.csv', low_memory=False)\n",
    "df = df.loc[df['ctry'] == 'E92000001']\n",
    "df = df[['pcd', 'pcd2', 'pcds', 'lat', 'long']]\n",
    "df = df.reindex()"
   ]
  },
  {
   "cell_type": "code",
   "execution_count": 3,
   "metadata": {},
   "outputs": [
    {
     "data": {
      "text/html": [
       "<div>\n",
       "<style scoped>\n",
       "    .dataframe tbody tr th:only-of-type {\n",
       "        vertical-align: middle;\n",
       "    }\n",
       "\n",
       "    .dataframe tbody tr th {\n",
       "        vertical-align: top;\n",
       "    }\n",
       "\n",
       "    .dataframe thead th {\n",
       "        text-align: right;\n",
       "    }\n",
       "</style>\n",
       "<table border=\"1\" class=\"dataframe\">\n",
       "  <thead>\n",
       "    <tr style=\"text-align: right;\">\n",
       "      <th></th>\n",
       "      <th>pcd</th>\n",
       "      <th>pcd2</th>\n",
       "      <th>pcds</th>\n",
       "      <th>lat</th>\n",
       "      <th>long</th>\n",
       "    </tr>\n",
       "  </thead>\n",
       "  <tbody>\n",
       "    <tr>\n",
       "      <th>39104</th>\n",
       "      <td>AL1 1AA</td>\n",
       "      <td>AL1  1AA</td>\n",
       "      <td>AL1 1AA</td>\n",
       "      <td>51.749084</td>\n",
       "      <td>-0.341337</td>\n",
       "    </tr>\n",
       "    <tr>\n",
       "      <th>39105</th>\n",
       "      <td>AL1 1AB</td>\n",
       "      <td>AL1  1AB</td>\n",
       "      <td>AL1 1AB</td>\n",
       "      <td>51.747828</td>\n",
       "      <td>-0.301865</td>\n",
       "    </tr>\n",
       "    <tr>\n",
       "      <th>39106</th>\n",
       "      <td>AL1 1AD</td>\n",
       "      <td>AL1  1AD</td>\n",
       "      <td>AL1 1AD</td>\n",
       "      <td>51.747828</td>\n",
       "      <td>-0.301865</td>\n",
       "    </tr>\n",
       "    <tr>\n",
       "      <th>39107</th>\n",
       "      <td>AL1 1AE</td>\n",
       "      <td>AL1  1AE</td>\n",
       "      <td>AL1 1AE</td>\n",
       "      <td>51.747828</td>\n",
       "      <td>-0.301865</td>\n",
       "    </tr>\n",
       "    <tr>\n",
       "      <th>39108</th>\n",
       "      <td>AL1 1AF</td>\n",
       "      <td>AL1  1AF</td>\n",
       "      <td>AL1 1AF</td>\n",
       "      <td>51.749084</td>\n",
       "      <td>-0.341337</td>\n",
       "    </tr>\n",
       "  </tbody>\n",
       "</table>\n",
       "</div>"
      ],
      "text/plain": [
       "           pcd      pcd2     pcds        lat      long\n",
       "39104  AL1 1AA  AL1  1AA  AL1 1AA  51.749084 -0.341337\n",
       "39105  AL1 1AB  AL1  1AB  AL1 1AB  51.747828 -0.301865\n",
       "39106  AL1 1AD  AL1  1AD  AL1 1AD  51.747828 -0.301865\n",
       "39107  AL1 1AE  AL1  1AE  AL1 1AE  51.747828 -0.301865\n",
       "39108  AL1 1AF  AL1  1AF  AL1 1AF  51.749084 -0.341337"
      ]
     },
     "execution_count": 3,
     "metadata": {},
     "output_type": "execute_result"
    }
   ],
   "source": [
    "df.head()"
   ]
  },
  {
   "cell_type": "code",
   "execution_count": 4,
   "metadata": {},
   "outputs": [],
   "source": [
    "gdf = gp.GeoDataFrame(df, geometry=gp.points_from_xy(df.long, df.lat), crs='EPSG:4326')"
   ]
  },
  {
   "cell_type": "code",
   "execution_count": 5,
   "metadata": {},
   "outputs": [
    {
     "data": {
      "text/html": [
       "<div>\n",
       "<style scoped>\n",
       "    .dataframe tbody tr th:only-of-type {\n",
       "        vertical-align: middle;\n",
       "    }\n",
       "\n",
       "    .dataframe tbody tr th {\n",
       "        vertical-align: top;\n",
       "    }\n",
       "\n",
       "    .dataframe thead th {\n",
       "        text-align: right;\n",
       "    }\n",
       "</style>\n",
       "<table border=\"1\" class=\"dataframe\">\n",
       "  <thead>\n",
       "    <tr style=\"text-align: right;\">\n",
       "      <th></th>\n",
       "      <th>pcd</th>\n",
       "      <th>pcd2</th>\n",
       "      <th>pcds</th>\n",
       "      <th>lat</th>\n",
       "      <th>long</th>\n",
       "      <th>geometry</th>\n",
       "    </tr>\n",
       "  </thead>\n",
       "  <tbody>\n",
       "    <tr>\n",
       "      <th>39104</th>\n",
       "      <td>AL1 1AA</td>\n",
       "      <td>AL1  1AA</td>\n",
       "      <td>AL1 1AA</td>\n",
       "      <td>51.749084</td>\n",
       "      <td>-0.341337</td>\n",
       "      <td>POINT (-0.34134 51.74908)</td>\n",
       "    </tr>\n",
       "    <tr>\n",
       "      <th>39105</th>\n",
       "      <td>AL1 1AB</td>\n",
       "      <td>AL1  1AB</td>\n",
       "      <td>AL1 1AB</td>\n",
       "      <td>51.747828</td>\n",
       "      <td>-0.301865</td>\n",
       "      <td>POINT (-0.30186 51.74783)</td>\n",
       "    </tr>\n",
       "    <tr>\n",
       "      <th>39106</th>\n",
       "      <td>AL1 1AD</td>\n",
       "      <td>AL1  1AD</td>\n",
       "      <td>AL1 1AD</td>\n",
       "      <td>51.747828</td>\n",
       "      <td>-0.301865</td>\n",
       "      <td>POINT (-0.30186 51.74783)</td>\n",
       "    </tr>\n",
       "    <tr>\n",
       "      <th>39107</th>\n",
       "      <td>AL1 1AE</td>\n",
       "      <td>AL1  1AE</td>\n",
       "      <td>AL1 1AE</td>\n",
       "      <td>51.747828</td>\n",
       "      <td>-0.301865</td>\n",
       "      <td>POINT (-0.30186 51.74783)</td>\n",
       "    </tr>\n",
       "    <tr>\n",
       "      <th>39108</th>\n",
       "      <td>AL1 1AF</td>\n",
       "      <td>AL1  1AF</td>\n",
       "      <td>AL1 1AF</td>\n",
       "      <td>51.749084</td>\n",
       "      <td>-0.341337</td>\n",
       "      <td>POINT (-0.34134 51.74908)</td>\n",
       "    </tr>\n",
       "  </tbody>\n",
       "</table>\n",
       "</div>"
      ],
      "text/plain": [
       "           pcd      pcd2     pcds        lat      long  \\\n",
       "39104  AL1 1AA  AL1  1AA  AL1 1AA  51.749084 -0.341337   \n",
       "39105  AL1 1AB  AL1  1AB  AL1 1AB  51.747828 -0.301865   \n",
       "39106  AL1 1AD  AL1  1AD  AL1 1AD  51.747828 -0.301865   \n",
       "39107  AL1 1AE  AL1  1AE  AL1 1AE  51.747828 -0.301865   \n",
       "39108  AL1 1AF  AL1  1AF  AL1 1AF  51.749084 -0.341337   \n",
       "\n",
       "                        geometry  \n",
       "39104  POINT (-0.34134 51.74908)  \n",
       "39105  POINT (-0.30186 51.74783)  \n",
       "39106  POINT (-0.30186 51.74783)  \n",
       "39107  POINT (-0.30186 51.74783)  \n",
       "39108  POINT (-0.34134 51.74908)  "
      ]
     },
     "execution_count": 5,
     "metadata": {},
     "output_type": "execute_result"
    }
   ],
   "source": [
    "gdf.head()"
   ]
  },
  {
   "cell_type": "code",
   "execution_count": 7,
   "metadata": {},
   "outputs": [],
   "source": [
    "gdf.to_file(\"output.json\", driver=\"GeoJSON\")"
   ]
  }
 ],
 "metadata": {
  "kernelspec": {
   "display_name": "oa_maps",
   "language": "python",
   "name": "python3"
  },
  "language_info": {
   "codemirror_mode": {
    "name": "ipython",
    "version": 3
   },
   "file_extension": ".py",
   "mimetype": "text/x-python",
   "name": "python",
   "nbconvert_exporter": "python",
   "pygments_lexer": "ipython3",
   "version": "3.12.7"
  }
 },
 "nbformat": 4,
 "nbformat_minor": 2
}
